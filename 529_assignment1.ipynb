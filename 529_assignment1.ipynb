{
  "nbformat": 4,
  "nbformat_minor": 0,
  "metadata": {
    "colab": {
      "provenance": [],
      "mount_file_id": "15XZpEOxqH37WApk2dv0qvhGG-iRkDQK8",
      "authorship_tag": "ABX9TyM7/1jtueAmKqCf+8A1khKq",
      "include_colab_link": true
    },
    "kernelspec": {
      "name": "python3",
      "display_name": "Python 3"
    },
    "language_info": {
      "name": "python"
    }
  },
  "cells": [
    {
      "cell_type": "markdown",
      "metadata": {
        "id": "view-in-github",
        "colab_type": "text"
      },
      "source": [
        "<a href=\"https://colab.research.google.com/github/aarontgao2023/B529/blob/main/529_assignment1.ipynb\" target=\"_parent\"><img src=\"https://colab.research.google.com/assets/colab-badge.svg\" alt=\"Open In Colab\"/></a>"
      ]
    },
    {
      "cell_type": "markdown",
      "source": [
        "# B529 Machine Learning in Bioinformatics: Assignment 1\n",
        "\n",
        "---\n"
      ],
      "metadata": {
        "id": "DKUymY0oSBqZ"
      }
    },
    {
      "cell_type": "markdown",
      "source": [
        "# Question 1\n"
      ],
      "metadata": {
        "id": "kvUjPX7HRr_t"
      }
    },
    {
      "cell_type": "markdown",
      "source": [
        "$$\\begin{array}{ll}\\mathbf{x}_1=(1,2,0)^{\\top} & y_1=+1 \\\\ \\mathbf{x}_2=(1,2,2)^{\\top} & y_2=+1 \\\\ \\mathbf{x}_3=(1,0,2)^{\\top} & y_3=-1\\end{array}$$\n",
        "$$ w_0 = \\begin{bmatrix}0 & 6 & 6\\end{bmatrix}$$\n",
        "**Iteration 1:**  \n",
        "$\\operatorname{sign}(\\mathbf{w_0}^{\\mathrm{T}} \\mathbf{x_1}) =\n",
        "\\operatorname{sign}(\\begin{bmatrix}1 & 2 & 0\\end{bmatrix} \\begin{bmatrix}0 \\\\ 6 \\\\ 6\\end{bmatrix}) = \\operatorname{sign}(12) = +1 = y_1$\n",
        "\n",
        "$\\operatorname{sign}(\\mathbf{w_0}^{\\mathrm{T}} \\mathbf{x_2}) =\n",
        "\\operatorname{sign}(\\begin{bmatrix}1 & 2 & 2\\end{bmatrix} \\begin{bmatrix}0 \\\\ 6 \\\\ 6\\end{bmatrix}) = \\operatorname{sign}(24) = +1 = y_2$\n",
        "\n",
        "$\\operatorname{sign}(\\mathbf{w_0}^{\\mathrm{T}} \\mathbf{x_3}) =\n",
        "\\operatorname{sign}(\\begin{bmatrix}1 & 0 & 2\\end{bmatrix} \\begin{bmatrix}0 \\\\ 6 \\\\ 6\\end{bmatrix}) = \\operatorname{sign}(12) = +1 \\neq y_3$\n",
        "\n",
        "$w_1 = w_0+ y_3 * x3 = \\begin{bmatrix}-1 & 6 & 4\\end{bmatrix}$\n",
        "\n",
        "**Iteration 2:**  \n",
        "$\\operatorname{sign}(\\mathbf{w_1}^{\\mathrm{T}} \\mathbf{x_1}) =\n",
        "\\operatorname{sign}(\\begin{bmatrix}1 & 2 & 0\\end{bmatrix} \\begin{bmatrix}-1 \\\\ 6 \\\\ 4\\end{bmatrix}) = \\operatorname{sign}(11) = +1 = y_1$\n",
        "\n",
        "$\\operatorname{sign}(\\mathbf{w_1}^{\\mathrm{T}} \\mathbf{x_2}) =\n",
        "\\operatorname{sign}(\\begin{bmatrix}1 & 2 & 2\\end{bmatrix} \\begin{bmatrix}-1 \\\\ 6 \\\\ 4\\end{bmatrix}) = \\operatorname{sign}(19) = +1 = y_2$\n",
        "\n",
        "$\\operatorname{sign}(\\mathbf{w_1}^{\\mathrm{T}} \\mathbf{x_3}) =\n",
        "\\operatorname{sign}(\\begin{bmatrix}1 & 0 & 2\\end{bmatrix} \\begin{bmatrix}-1 \\\\ 6 \\\\ 4\\end{bmatrix}) = \\operatorname{sign}(7) = +1 \\neq y_3$\n",
        "\n",
        "$w_2 = w_1+ y_3 * x3 = \\begin{bmatrix}-2 & 6 & 2\\end{bmatrix}$\n",
        "\n",
        "**Iteration 3:**  \n",
        "$\\operatorname{sign}(\\mathbf{w_2}^{\\mathrm{T}} \\mathbf{x_1}) =\n",
        "\\operatorname{sign}(\\begin{bmatrix}1 & 2 & 0\\end{bmatrix} \\begin{bmatrix}-2 \\\\ 6 \\\\ 2\\end{bmatrix}) = \\operatorname{sign}(10) = +1 = y_1$\n",
        "\n",
        "$\\operatorname{sign}(\\mathbf{w_2}^{\\mathrm{T}} \\mathbf{x_2}) =\n",
        "\\operatorname{sign}(\\begin{bmatrix}1 & 2 & 2\\end{bmatrix} \\begin{bmatrix}-2 \\\\ 6 \\\\ 2\\end{bmatrix}) = \\operatorname{sign}(14) = +1 = y_2$\n",
        "\n",
        "$\\operatorname{sign}(\\mathbf{w_2}^{\\mathrm{T}} \\mathbf{x_3}) =\n",
        "\\operatorname{sign}(\\begin{bmatrix}1 & 0 & 2\\end{bmatrix} \\begin{bmatrix}-2 \\\\ 6 \\\\ 2\\end{bmatrix}) = \\operatorname{sign}(2) = +1 \\neq y_3$\n",
        "\n",
        "$w_3 = w_2+ y_3 * x3 = \\begin{bmatrix}-3 & 6 & 0\\end{bmatrix}$\n",
        "\n",
        "**Iteration 4:**  \n",
        "$\\operatorname{sign}(\\mathbf{w_3}^{\\mathrm{T}} \\mathbf{x_1}) =\n",
        "\\operatorname{sign}(\\begin{bmatrix}1 & 2 & 0\\end{bmatrix} \\begin{bmatrix}-3 \\\\ 6 \\\\ 0\\end{bmatrix}) = \\operatorname{sign}(9) = +1 = y_1$\n",
        "\n",
        "$\\operatorname{sign}(\\mathbf{w_3}^{\\mathrm{T}} \\mathbf{x_2}) =\n",
        "\\operatorname{sign}(\\begin{bmatrix}1 & 2 & 2\\end{bmatrix} \\begin{bmatrix}-3 \\\\ 6 \\\\ 0\\end{bmatrix}) = \\operatorname{sign}(9) = +1 = y_2$\n",
        "\n",
        "$\\operatorname{sign}(\\mathbf{w_3}^{\\mathrm{T}} \\mathbf{x_3}) =\n",
        "\\operatorname{sign}(\\begin{bmatrix}1 & 0 & 2\\end{bmatrix} \\begin{bmatrix}-3 \\\\ 6 \\\\ 0\\end{bmatrix}) = \\operatorname{sign}(-3) = +1 = y_3$\n",
        "\n",
        "$w_3$ have all points correctly classified, therefore weight vector $w = \\begin{bmatrix}-3 & 6 & 0\\end{bmatrix}$"
      ],
      "metadata": {
        "id": "QUaFqWv7R20X"
      }
    },
    {
      "cell_type": "code",
      "source": [
        "import numpy as np\n",
        "def perceptron_step(w, x, y):\n",
        "    y_pred = np.sign(np.dot(w, x))\n",
        "    if y_pred != y:\n",
        "        w = w + y * x\n",
        "    return w\n",
        "\n",
        "w = np.array([0, 6, 6])\n",
        "data_points = [\n",
        "    (np.array([1, 2, 0]), 1),\n",
        "    (np.array([1, 2, 2]), 1),\n",
        "    (np.array([1, 0, 2]), -1)\n",
        "]\n",
        "\n",
        "converged = False\n",
        "iterations = 0\n",
        "while not converged:\n",
        "    iterations += 1\n",
        "    converged = True\n",
        "    for x, y in data_points:\n",
        "        w_old = w.copy()\n",
        "        w = perceptron_step(w, x, y)\n",
        "        if not np.array_equal(w, w_old):\n",
        "            converged = False\n",
        "print(f\"Final weight vector: {w}\")"
      ],
      "metadata": {
        "colab": {
          "base_uri": "https://localhost:8080/"
        },
        "id": "1U0HGJizfK_f",
        "outputId": "f435e0e0-aad2-4797-e333-4161cd2ae612"
      },
      "execution_count": null,
      "outputs": [
        {
          "output_type": "stream",
          "name": "stdout",
          "text": [
            "Final weight vector: [-3  6  0]\n"
          ]
        }
      ]
    },
    {
      "cell_type": "markdown",
      "source": [
        "\n",
        "\n",
        "---\n",
        "\n"
      ],
      "metadata": {
        "id": "IiyHgptXWq9I"
      }
    },
    {
      "cell_type": "markdown",
      "source": [
        "# Question 2"
      ],
      "metadata": {
        "id": "vETNmm5lS9mu"
      }
    },
    {
      "cell_type": "markdown",
      "source": [
        "## (a)"
      ],
      "metadata": {
        "id": "r-C0koE7rwaE"
      }
    },
    {
      "cell_type": "code",
      "source": [
        "X = np.array([[1, 3, 2],[1, 2, 2],[1, 1, -1],[1, -1, -3]])\n",
        "#X = np.matrix(\"1,3,2;1,2,2;1,1,-1;1,-1,-3\")\n",
        "y = np.array([3, 1, -1, -3])\n",
        "from numpy.linalg import inv\n",
        "w = inv(X.T @ X) @ X.T @ y\n",
        "w"
      ],
      "metadata": {
        "colab": {
          "base_uri": "https://localhost:8080/"
        },
        "id": "H57tRZQEpE7y",
        "outputId": "a7d53c19-a4a1-462a-9c27-18941616a0cc"
      },
      "execution_count": null,
      "outputs": [
        {
          "output_type": "execute_result",
          "data": {
            "text/plain": [
              "array([-1.66666667,  1.33333333,  0.11111111])"
            ]
          },
          "metadata": {},
          "execution_count": 52
        }
      ]
    },
    {
      "cell_type": "markdown",
      "source": [
        "## (b)"
      ],
      "metadata": {
        "id": "ndbZjbAGry26"
      }
    },
    {
      "cell_type": "code",
      "source": [
        "from sklearn.linear_model import LinearRegression\n",
        "reg = LinearRegression(fit_intercept=False).fit(X, y)\n",
        "w = reg.coef_\n",
        "w"
      ],
      "metadata": {
        "colab": {
          "base_uri": "https://localhost:8080/"
        },
        "id": "cXWUOjqXr1mf",
        "outputId": "f5d70243-9eb2-406d-89da-11b0383fb33b"
      },
      "execution_count": null,
      "outputs": [
        {
          "output_type": "execute_result",
          "data": {
            "text/plain": [
              "array([-1.66666667,  1.33333333,  0.11111111])"
            ]
          },
          "metadata": {},
          "execution_count": 55
        }
      ]
    },
    {
      "cell_type": "markdown",
      "source": [
        "\n",
        "\n",
        "---\n",
        "\n"
      ],
      "metadata": {
        "id": "NZ8aHAnsWsvO"
      }
    },
    {
      "cell_type": "markdown",
      "source": [
        "# Question 3"
      ],
      "metadata": {
        "id": "Hpi4FSBZS_30"
      }
    },
    {
      "cell_type": "markdown",
      "source": [
        "## Input data"
      ],
      "metadata": {
        "id": "0NVRqwSxTINs"
      }
    },
    {
      "cell_type": "code",
      "source": [
        "import numpy as np\n",
        "class1 = np.matrix([[4, 3], [2, 2]])\n",
        "class2 = np.matrix([[1, 1], [-2, -1]])\n",
        "y1 = 1\n",
        "y2 = 1\n",
        "y3 = -1\n",
        "y4 = -1"
      ],
      "metadata": {
        "id": "WlOnLOEJTq1e"
      },
      "execution_count": 9,
      "outputs": []
    },
    {
      "cell_type": "markdown",
      "source": [
        "##  Mean vectors"
      ],
      "metadata": {
        "id": "2PmIa1-EUAOZ"
      }
    },
    {
      "cell_type": "code",
      "source": [
        "mean1 = np.mean(class1, axis=0)\n",
        "mean2 = np.mean(class2, axis=0)\n",
        "mean1"
      ],
      "metadata": {
        "id": "mXVWgH8AUD3j",
        "colab": {
          "base_uri": "https://localhost:8080/"
        },
        "outputId": "507aef14-a7ab-4b17-b1ac-80ce7c51147e"
      },
      "execution_count": 10,
      "outputs": [
        {
          "output_type": "execute_result",
          "data": {
            "text/plain": [
              "matrix([[3. , 2.5]])"
            ]
          },
          "metadata": {},
          "execution_count": 10
        }
      ]
    },
    {
      "cell_type": "markdown",
      "source": [
        "## Within-class scatter matrix"
      ],
      "metadata": {
        "id": "IQLUdfA8Uj8w"
      }
    },
    {
      "cell_type": "code",
      "source": [
        "S_W = np.zeros((2,2))\n",
        "for x in class1:\n",
        "    x = x.reshape(2,1)\n",
        "    m = mean1.reshape(2,1)\n",
        "    S_W += (x - m).dot((x - m).T)\n",
        "for x in class2:\n",
        "    x = x.reshape(2,1)\n",
        "    m = mean2.reshape(2,1)\n",
        "    S_W += (x - m).dot((x - m).T)\n",
        "S_W"
      ],
      "metadata": {
        "id": "FdMHehyNUstc",
        "colab": {
          "base_uri": "https://localhost:8080/"
        },
        "outputId": "f1c3e568-2fc7-4374-c409-789fdc72a8f9"
      },
      "execution_count": 5,
      "outputs": [
        {
          "output_type": "execute_result",
          "data": {
            "text/plain": [
              "array([[6.5, 4. ],\n",
              "       [4. , 2.5]])"
            ]
          },
          "metadata": {},
          "execution_count": 5
        }
      ]
    },
    {
      "cell_type": "markdown",
      "source": [
        "## w"
      ],
      "metadata": {
        "id": "j0gfSsb7VLzi"
      }
    },
    {
      "cell_type": "code",
      "source": [
        "from numpy.linalg import inv\n",
        "W = inv(S_W) * (mean2.transpose() - mean1.transpose())\n",
        "W"
      ],
      "metadata": {
        "id": "P-D03kQqVMSV",
        "colab": {
          "base_uri": "https://localhost:8080/"
        },
        "outputId": "aee40e78-9af4-4f82-a518-ec4d917a1beb"
      },
      "execution_count": 11,
      "outputs": [
        {
          "output_type": "execute_result",
          "data": {
            "text/plain": [
              "matrix([[ 5.],\n",
              "        [-9.]])"
            ]
          },
          "metadata": {},
          "execution_count": 11
        }
      ]
    },
    {
      "cell_type": "markdown",
      "source": [
        "\n",
        "\n",
        "---\n",
        "\n"
      ],
      "metadata": {
        "id": "4O4n-_P8Wuz2"
      }
    },
    {
      "cell_type": "markdown",
      "source": [
        "# Question 4"
      ],
      "metadata": {
        "id": "Ng9I7fITTFFN"
      }
    },
    {
      "cell_type": "markdown",
      "source": [
        " ## Load package and the dataset"
      ],
      "metadata": {
        "id": "B1dW_pGAQuan"
      }
    },
    {
      "cell_type": "code",
      "source": [
        "from sklearn.linear_model import Perceptron\n",
        "from sklearn.discriminant_analysis import LinearDiscriminantAnalysis\n",
        "import pandas as pd\n",
        "\n",
        "heart_disease_data = pd.read_csv('/content/drive/MyDrive/529_HW/heart_disease_data.txt')\n",
        "heart_disease_data.head()"
      ],
      "metadata": {
        "colab": {
          "base_uri": "https://localhost:8080/",
          "height": 206
        },
        "id": "5_5CfYcRQRI1",
        "outputId": "72dbb0ba-43e3-4e78-9c9d-50a0ed70f413"
      },
      "execution_count": null,
      "outputs": [
        {
          "output_type": "execute_result",
          "data": {
            "text/plain": [
              "    age  sex   cp  trestbps   chol  fbs  restecg  thalach  exang  oldpeak  \\\n",
              "0  63.0  1.0  1.0     145.0  233.0  1.0      2.0    150.0    0.0      2.3   \n",
              "1  67.0  1.0  4.0     160.0  286.0  0.0      2.0    108.0    1.0      1.5   \n",
              "2  67.0  1.0  4.0     120.0  229.0  0.0      2.0    129.0    1.0      2.6   \n",
              "3  37.0  1.0  3.0     130.0  250.0  0.0      0.0    187.0    0.0      3.5   \n",
              "4  41.0  0.0  2.0     130.0  204.0  0.0      2.0    172.0    0.0      1.4   \n",
              "\n",
              "   slope   ca  thal  num  \n",
              "0    3.0  0.0   6.0    0  \n",
              "1    2.0  3.0   3.0    1  \n",
              "2    2.0  2.0   7.0    1  \n",
              "3    3.0  0.0   3.0    0  \n",
              "4    1.0  0.0   3.0    0  "
            ],
            "text/html": [
              "\n",
              "  <div id=\"df-746f805e-2a5a-4d48-a58e-12081b8d12e6\" class=\"colab-df-container\">\n",
              "    <div>\n",
              "<style scoped>\n",
              "    .dataframe tbody tr th:only-of-type {\n",
              "        vertical-align: middle;\n",
              "    }\n",
              "\n",
              "    .dataframe tbody tr th {\n",
              "        vertical-align: top;\n",
              "    }\n",
              "\n",
              "    .dataframe thead th {\n",
              "        text-align: right;\n",
              "    }\n",
              "</style>\n",
              "<table border=\"1\" class=\"dataframe\">\n",
              "  <thead>\n",
              "    <tr style=\"text-align: right;\">\n",
              "      <th></th>\n",
              "      <th>age</th>\n",
              "      <th>sex</th>\n",
              "      <th>cp</th>\n",
              "      <th>trestbps</th>\n",
              "      <th>chol</th>\n",
              "      <th>fbs</th>\n",
              "      <th>restecg</th>\n",
              "      <th>thalach</th>\n",
              "      <th>exang</th>\n",
              "      <th>oldpeak</th>\n",
              "      <th>slope</th>\n",
              "      <th>ca</th>\n",
              "      <th>thal</th>\n",
              "      <th>num</th>\n",
              "    </tr>\n",
              "  </thead>\n",
              "  <tbody>\n",
              "    <tr>\n",
              "      <th>0</th>\n",
              "      <td>63.0</td>\n",
              "      <td>1.0</td>\n",
              "      <td>1.0</td>\n",
              "      <td>145.0</td>\n",
              "      <td>233.0</td>\n",
              "      <td>1.0</td>\n",
              "      <td>2.0</td>\n",
              "      <td>150.0</td>\n",
              "      <td>0.0</td>\n",
              "      <td>2.3</td>\n",
              "      <td>3.0</td>\n",
              "      <td>0.0</td>\n",
              "      <td>6.0</td>\n",
              "      <td>0</td>\n",
              "    </tr>\n",
              "    <tr>\n",
              "      <th>1</th>\n",
              "      <td>67.0</td>\n",
              "      <td>1.0</td>\n",
              "      <td>4.0</td>\n",
              "      <td>160.0</td>\n",
              "      <td>286.0</td>\n",
              "      <td>0.0</td>\n",
              "      <td>2.0</td>\n",
              "      <td>108.0</td>\n",
              "      <td>1.0</td>\n",
              "      <td>1.5</td>\n",
              "      <td>2.0</td>\n",
              "      <td>3.0</td>\n",
              "      <td>3.0</td>\n",
              "      <td>1</td>\n",
              "    </tr>\n",
              "    <tr>\n",
              "      <th>2</th>\n",
              "      <td>67.0</td>\n",
              "      <td>1.0</td>\n",
              "      <td>4.0</td>\n",
              "      <td>120.0</td>\n",
              "      <td>229.0</td>\n",
              "      <td>0.0</td>\n",
              "      <td>2.0</td>\n",
              "      <td>129.0</td>\n",
              "      <td>1.0</td>\n",
              "      <td>2.6</td>\n",
              "      <td>2.0</td>\n",
              "      <td>2.0</td>\n",
              "      <td>7.0</td>\n",
              "      <td>1</td>\n",
              "    </tr>\n",
              "    <tr>\n",
              "      <th>3</th>\n",
              "      <td>37.0</td>\n",
              "      <td>1.0</td>\n",
              "      <td>3.0</td>\n",
              "      <td>130.0</td>\n",
              "      <td>250.0</td>\n",
              "      <td>0.0</td>\n",
              "      <td>0.0</td>\n",
              "      <td>187.0</td>\n",
              "      <td>0.0</td>\n",
              "      <td>3.5</td>\n",
              "      <td>3.0</td>\n",
              "      <td>0.0</td>\n",
              "      <td>3.0</td>\n",
              "      <td>0</td>\n",
              "    </tr>\n",
              "    <tr>\n",
              "      <th>4</th>\n",
              "      <td>41.0</td>\n",
              "      <td>0.0</td>\n",
              "      <td>2.0</td>\n",
              "      <td>130.0</td>\n",
              "      <td>204.0</td>\n",
              "      <td>0.0</td>\n",
              "      <td>2.0</td>\n",
              "      <td>172.0</td>\n",
              "      <td>0.0</td>\n",
              "      <td>1.4</td>\n",
              "      <td>1.0</td>\n",
              "      <td>0.0</td>\n",
              "      <td>3.0</td>\n",
              "      <td>0</td>\n",
              "    </tr>\n",
              "  </tbody>\n",
              "</table>\n",
              "</div>\n",
              "    <div class=\"colab-df-buttons\">\n",
              "\n",
              "  <div class=\"colab-df-container\">\n",
              "    <button class=\"colab-df-convert\" onclick=\"convertToInteractive('df-746f805e-2a5a-4d48-a58e-12081b8d12e6')\"\n",
              "            title=\"Convert this dataframe to an interactive table.\"\n",
              "            style=\"display:none;\">\n",
              "\n",
              "  <svg xmlns=\"http://www.w3.org/2000/svg\" height=\"24px\" viewBox=\"0 -960 960 960\">\n",
              "    <path d=\"M120-120v-720h720v720H120Zm60-500h600v-160H180v160Zm220 220h160v-160H400v160Zm0 220h160v-160H400v160ZM180-400h160v-160H180v160Zm440 0h160v-160H620v160ZM180-180h160v-160H180v160Zm440 0h160v-160H620v160Z\"/>\n",
              "  </svg>\n",
              "    </button>\n",
              "\n",
              "  <style>\n",
              "    .colab-df-container {\n",
              "      display:flex;\n",
              "      gap: 12px;\n",
              "    }\n",
              "\n",
              "    .colab-df-convert {\n",
              "      background-color: #E8F0FE;\n",
              "      border: none;\n",
              "      border-radius: 50%;\n",
              "      cursor: pointer;\n",
              "      display: none;\n",
              "      fill: #1967D2;\n",
              "      height: 32px;\n",
              "      padding: 0 0 0 0;\n",
              "      width: 32px;\n",
              "    }\n",
              "\n",
              "    .colab-df-convert:hover {\n",
              "      background-color: #E2EBFA;\n",
              "      box-shadow: 0px 1px 2px rgba(60, 64, 67, 0.3), 0px 1px 3px 1px rgba(60, 64, 67, 0.15);\n",
              "      fill: #174EA6;\n",
              "    }\n",
              "\n",
              "    .colab-df-buttons div {\n",
              "      margin-bottom: 4px;\n",
              "    }\n",
              "\n",
              "    [theme=dark] .colab-df-convert {\n",
              "      background-color: #3B4455;\n",
              "      fill: #D2E3FC;\n",
              "    }\n",
              "\n",
              "    [theme=dark] .colab-df-convert:hover {\n",
              "      background-color: #434B5C;\n",
              "      box-shadow: 0px 1px 3px 1px rgba(0, 0, 0, 0.15);\n",
              "      filter: drop-shadow(0px 1px 2px rgba(0, 0, 0, 0.3));\n",
              "      fill: #FFFFFF;\n",
              "    }\n",
              "  </style>\n",
              "\n",
              "    <script>\n",
              "      const buttonEl =\n",
              "        document.querySelector('#df-746f805e-2a5a-4d48-a58e-12081b8d12e6 button.colab-df-convert');\n",
              "      buttonEl.style.display =\n",
              "        google.colab.kernel.accessAllowed ? 'block' : 'none';\n",
              "\n",
              "      async function convertToInteractive(key) {\n",
              "        const element = document.querySelector('#df-746f805e-2a5a-4d48-a58e-12081b8d12e6');\n",
              "        const dataTable =\n",
              "          await google.colab.kernel.invokeFunction('convertToInteractive',\n",
              "                                                    [key], {});\n",
              "        if (!dataTable) return;\n",
              "\n",
              "        const docLinkHtml = 'Like what you see? Visit the ' +\n",
              "          '<a target=\"_blank\" href=https://colab.research.google.com/notebooks/data_table.ipynb>data table notebook</a>'\n",
              "          + ' to learn more about interactive tables.';\n",
              "        element.innerHTML = '';\n",
              "        dataTable['output_type'] = 'display_data';\n",
              "        await google.colab.output.renderOutput(dataTable, element);\n",
              "        const docLink = document.createElement('div');\n",
              "        docLink.innerHTML = docLinkHtml;\n",
              "        element.appendChild(docLink);\n",
              "      }\n",
              "    </script>\n",
              "  </div>\n",
              "\n",
              "\n",
              "<div id=\"df-6dce6654-304c-44f0-89c4-b0ed7eed8fc4\">\n",
              "  <button class=\"colab-df-quickchart\" onclick=\"quickchart('df-6dce6654-304c-44f0-89c4-b0ed7eed8fc4')\"\n",
              "            title=\"Suggest charts\"\n",
              "            style=\"display:none;\">\n",
              "\n",
              "<svg xmlns=\"http://www.w3.org/2000/svg\" height=\"24px\"viewBox=\"0 0 24 24\"\n",
              "     width=\"24px\">\n",
              "    <g>\n",
              "        <path d=\"M19 3H5c-1.1 0-2 .9-2 2v14c0 1.1.9 2 2 2h14c1.1 0 2-.9 2-2V5c0-1.1-.9-2-2-2zM9 17H7v-7h2v7zm4 0h-2V7h2v10zm4 0h-2v-4h2v4z\"/>\n",
              "    </g>\n",
              "</svg>\n",
              "  </button>\n",
              "\n",
              "<style>\n",
              "  .colab-df-quickchart {\n",
              "      --bg-color: #E8F0FE;\n",
              "      --fill-color: #1967D2;\n",
              "      --hover-bg-color: #E2EBFA;\n",
              "      --hover-fill-color: #174EA6;\n",
              "      --disabled-fill-color: #AAA;\n",
              "      --disabled-bg-color: #DDD;\n",
              "  }\n",
              "\n",
              "  [theme=dark] .colab-df-quickchart {\n",
              "      --bg-color: #3B4455;\n",
              "      --fill-color: #D2E3FC;\n",
              "      --hover-bg-color: #434B5C;\n",
              "      --hover-fill-color: #FFFFFF;\n",
              "      --disabled-bg-color: #3B4455;\n",
              "      --disabled-fill-color: #666;\n",
              "  }\n",
              "\n",
              "  .colab-df-quickchart {\n",
              "    background-color: var(--bg-color);\n",
              "    border: none;\n",
              "    border-radius: 50%;\n",
              "    cursor: pointer;\n",
              "    display: none;\n",
              "    fill: var(--fill-color);\n",
              "    height: 32px;\n",
              "    padding: 0;\n",
              "    width: 32px;\n",
              "  }\n",
              "\n",
              "  .colab-df-quickchart:hover {\n",
              "    background-color: var(--hover-bg-color);\n",
              "    box-shadow: 0 1px 2px rgba(60, 64, 67, 0.3), 0 1px 3px 1px rgba(60, 64, 67, 0.15);\n",
              "    fill: var(--button-hover-fill-color);\n",
              "  }\n",
              "\n",
              "  .colab-df-quickchart-complete:disabled,\n",
              "  .colab-df-quickchart-complete:disabled:hover {\n",
              "    background-color: var(--disabled-bg-color);\n",
              "    fill: var(--disabled-fill-color);\n",
              "    box-shadow: none;\n",
              "  }\n",
              "\n",
              "  .colab-df-spinner {\n",
              "    border: 2px solid var(--fill-color);\n",
              "    border-color: transparent;\n",
              "    border-bottom-color: var(--fill-color);\n",
              "    animation:\n",
              "      spin 1s steps(1) infinite;\n",
              "  }\n",
              "\n",
              "  @keyframes spin {\n",
              "    0% {\n",
              "      border-color: transparent;\n",
              "      border-bottom-color: var(--fill-color);\n",
              "      border-left-color: var(--fill-color);\n",
              "    }\n",
              "    20% {\n",
              "      border-color: transparent;\n",
              "      border-left-color: var(--fill-color);\n",
              "      border-top-color: var(--fill-color);\n",
              "    }\n",
              "    30% {\n",
              "      border-color: transparent;\n",
              "      border-left-color: var(--fill-color);\n",
              "      border-top-color: var(--fill-color);\n",
              "      border-right-color: var(--fill-color);\n",
              "    }\n",
              "    40% {\n",
              "      border-color: transparent;\n",
              "      border-right-color: var(--fill-color);\n",
              "      border-top-color: var(--fill-color);\n",
              "    }\n",
              "    60% {\n",
              "      border-color: transparent;\n",
              "      border-right-color: var(--fill-color);\n",
              "    }\n",
              "    80% {\n",
              "      border-color: transparent;\n",
              "      border-right-color: var(--fill-color);\n",
              "      border-bottom-color: var(--fill-color);\n",
              "    }\n",
              "    90% {\n",
              "      border-color: transparent;\n",
              "      border-bottom-color: var(--fill-color);\n",
              "    }\n",
              "  }\n",
              "</style>\n",
              "\n",
              "  <script>\n",
              "    async function quickchart(key) {\n",
              "      const quickchartButtonEl =\n",
              "        document.querySelector('#' + key + ' button');\n",
              "      quickchartButtonEl.disabled = true;  // To prevent multiple clicks.\n",
              "      quickchartButtonEl.classList.add('colab-df-spinner');\n",
              "      try {\n",
              "        const charts = await google.colab.kernel.invokeFunction(\n",
              "            'suggestCharts', [key], {});\n",
              "      } catch (error) {\n",
              "        console.error('Error during call to suggestCharts:', error);\n",
              "      }\n",
              "      quickchartButtonEl.classList.remove('colab-df-spinner');\n",
              "      quickchartButtonEl.classList.add('colab-df-quickchart-complete');\n",
              "    }\n",
              "    (() => {\n",
              "      let quickchartButtonEl =\n",
              "        document.querySelector('#df-6dce6654-304c-44f0-89c4-b0ed7eed8fc4 button');\n",
              "      quickchartButtonEl.style.display =\n",
              "        google.colab.kernel.accessAllowed ? 'block' : 'none';\n",
              "    })();\n",
              "  </script>\n",
              "</div>\n",
              "\n",
              "    </div>\n",
              "  </div>\n"
            ]
          },
          "metadata": {},
          "execution_count": 59
        }
      ]
    },
    {
      "cell_type": "markdown",
      "source": [
        "## Preparation"
      ],
      "metadata": {
        "id": "mKgzj_S4THI4"
      }
    },
    {
      "cell_type": "code",
      "source": [
        "X = heart_disease_data.drop('num', axis=1)  # Features\n",
        "y = heart_disease_data['num']  # Target variable"
      ],
      "metadata": {
        "id": "MUv9U5SBRJp9"
      },
      "execution_count": null,
      "outputs": []
    },
    {
      "cell_type": "markdown",
      "source": [
        "## Perception"
      ],
      "metadata": {
        "id": "R64KiRn7TCyQ"
      }
    },
    {
      "cell_type": "code",
      "source": [
        "perceptron = Perceptron()\n",
        "perceptron.fit(X, y)\n",
        "w_perceptron = perceptron.coef_\n",
        "w_perceptron"
      ],
      "metadata": {
        "colab": {
          "base_uri": "https://localhost:8080/"
        },
        "id": "nDUmzaiJRTni",
        "outputId": "bdf03bc6-32be-46c6-d04c-5a678765e729"
      },
      "execution_count": null,
      "outputs": [
        {
          "output_type": "execute_result",
          "data": {
            "text/plain": [
              "array([[  731. ,    67. ,   197. ,   325. ,    23. ,   -10. ,   116. ,\n",
              "        -1187. ,    59. ,   189.9,    93. ,   159. ,   508. ]])"
            ]
          },
          "metadata": {},
          "execution_count": 62
        }
      ]
    },
    {
      "cell_type": "markdown",
      "source": [
        "## LDA"
      ],
      "metadata": {
        "id": "RaCAsZwwRbaW"
      }
    },
    {
      "cell_type": "code",
      "source": [
        "lda = LinearDiscriminantAnalysis()\n",
        "lda.fit(X, y)\n",
        "w_lda = lda.coef_\n",
        "w_lda"
      ],
      "metadata": {
        "colab": {
          "base_uri": "https://localhost:8080/"
        },
        "id": "CxUqaMHARdMo",
        "outputId": "b7d91dd3-e92a-41a3-f343-75caad55f682"
      },
      "execution_count": null,
      "outputs": [
        {
          "output_type": "execute_result",
          "data": {
            "text/plain": [
              "array([[-0.00473584,  1.26780721,  1.30117132, -0.03437771,  0.01697281,\n",
              "        -0.07954438,  0.66800376, -0.01986038,  0.32713953,  0.78643444,\n",
              "         0.25465599,  1.02247583,  0.99167057]])"
            ]
          },
          "metadata": {},
          "execution_count": 63
        }
      ]
    }
  ]
}